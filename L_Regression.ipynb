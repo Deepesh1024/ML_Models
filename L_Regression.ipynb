{
 "cells": [
  {
   "cell_type": "markdown",
   "id": "083598a8-761f-4a66-a2a9-3989b65d2813",
   "metadata": {},
   "source": [
    "# Linear Regression"
   ]
  },
  {
   "cell_type": "markdown",
   "id": "a462cc44-347f-43cb-a89a-10d1cfdc7ec5",
   "metadata": {},
   "source": [
    "### training data"
   ]
  },
  {
   "cell_type": "code",
   "execution_count": 1,
   "id": "4699c878-4dee-43be-823c-badbb500211e",
   "metadata": {},
   "outputs": [],
   "source": [
    "import numpy as np\n",
    "import pandas as pd \n",
    "import torch \n",
    "import math"
   ]
  },
  {
   "cell_type": "code",
   "execution_count": 2,
   "id": "e21bbb48-1099-4acc-9b5e-1e84636d2cd3",
   "metadata": {},
   "outputs": [],
   "source": [
    "# Input(temp,rainfall, humidity)\n",
    "inputs = np.array([[73,67,43],\n",
    "                [91,88,64],\n",
    "                [87,134,58],\n",
    "                [102,43,37],\n",
    "                [69,96,70]], dtype = 'float32')"
   ]
  },
  {
   "cell_type": "code",
   "execution_count": 3,
   "id": "528756cc-6b96-4ff8-addc-10b1006b8dd5",
   "metadata": {},
   "outputs": [],
   "source": [
    "#targets (apples,oranges)\n",
    "targets = np.array([[56,70],\n",
    "                  [81,101], \n",
    "                  [119,133], \n",
    "                  [22,37], \n",
    "                  [103,119]], dtype='float32')"
   ]
  },
  {
   "cell_type": "code",
   "execution_count": 4,
   "id": "aed3bc04-74c9-4a89-9fd0-3de5fa56736b",
   "metadata": {},
   "outputs": [],
   "source": [
    "# convert inputs and targets to tensors\n",
    "tens1= torch.tensor(inputs)\n",
    "tens2 = torch.tensor(targets)"
   ]
  },
  {
   "cell_type": "code",
   "execution_count": 5,
   "id": "d15c7f97-3e13-46b0-92f7-ff88fcf931f2",
   "metadata": {},
   "outputs": [
    {
     "name": "stdout",
     "output_type": "stream",
     "text": [
      "tensor([[ 0.1548,  1.0396,  1.8693],\n",
      "        [-0.9566, -0.1036, -0.3296]], requires_grad=True)\n",
      "tensor([0.2634, 1.3578], requires_grad=True)\n"
     ]
    }
   ],
   "source": [
    "#weighrs and biases\n",
    "w = torch.randn(2,3, requires_grad = True)\n",
    "b = torch.randn(2, requires_grad = True)\n",
    "print(w)\n",
    "print(b)"
   ]
  },
  {
   "cell_type": "markdown",
   "id": "3746b70b-5326-4571-8b6d-0ee68342813e",
   "metadata": {},
   "source": [
    "##### we can define the model as"
   ]
  },
  {
   "cell_type": "code",
   "execution_count": 6,
   "id": "e44e228d-6db2-4950-96c4-05b82880e1f8",
   "metadata": {},
   "outputs": [],
   "source": [
    "def model(x):\n",
    "    return x @ w.t() + b"
   ]
  },
  {
   "cell_type": "code",
   "execution_count": 7,
   "id": "a5df5018-5e34-4908-9103-e4cc476d8b73",
   "metadata": {},
   "outputs": [
    {
     "data": {
      "text/plain": [
       "tensor([[ 161.5929,  -89.5891],\n",
       "        [ 225.4655, -115.9053],\n",
       "        [ 261.4504, -114.8664],\n",
       "        [ 129.9154, -112.8674],\n",
       "        [ 241.5933,  -97.6659]], grad_fn=<AddBackward0>)"
      ]
     },
     "execution_count": 7,
     "metadata": {},
     "output_type": "execute_result"
    }
   ],
   "source": [
    "#Generate predictions\n",
    "preds = model(tens1)\n",
    "preds"
   ]
  },
  {
   "cell_type": "code",
   "execution_count": 8,
   "id": "040b33e9-c6f2-4911-86be-e90f1d61ae9f",
   "metadata": {},
   "outputs": [
    {
     "data": {
      "text/plain": [
       "array([[ 56.,  70.],\n",
       "       [ 81., 101.],\n",
       "       [119., 133.],\n",
       "       [ 22.,  37.],\n",
       "       [103., 119.]], dtype=float32)"
      ]
     },
     "execution_count": 8,
     "metadata": {},
     "output_type": "execute_result"
    }
   ],
   "source": [
    "#compare with target\n",
    "targets"
   ]
  },
  {
   "cell_type": "markdown",
   "id": "6d746a5c-00ce-4811-8146-6ea66781e948",
   "metadata": {},
   "source": [
    "### Loss function"
   ]
  },
  {
   "cell_type": "code",
   "execution_count": 9,
   "id": "5ea29602-7ecb-4f61-aaa5-671298322bde",
   "metadata": {},
   "outputs": [
    {
     "name": "stdout",
     "output_type": "stream",
     "text": [
      "tensor([[ 161.5929,  -89.5891],\n",
      "        [ 225.4655, -115.9053],\n",
      "        [ 261.4504, -114.8664],\n",
      "        [ 129.9154, -112.8674],\n",
      "        [ 241.5933,  -97.6659]], grad_fn=<AddBackward0>)\n",
      "tensor([[ 56.,  70.],\n",
      "        [ 81., 101.],\n",
      "        [119., 133.],\n",
      "        [ 22.,  37.],\n",
      "        [103., 119.]])\n"
     ]
    }
   ],
   "source": [
    "# MSE Loss\n",
    "def mse(t1, t2):\n",
    "    diff = t1-t2\n",
    "    return torch.sum(diff*diff) / diff.numel()\n",
    "\n",
    "\n",
    "print(preds)\n",
    "print(tens2)"
   ]
  },
  {
   "cell_type": "code",
   "execution_count": 10,
   "id": "358ff91b-5295-4e95-a0bf-c44043dd5fe2",
   "metadata": {},
   "outputs": [
    {
     "name": "stdout",
     "output_type": "stream",
     "text": [
      "tensor(28652.4746, grad_fn=<DivBackward0>)\n"
     ]
    }
   ],
   "source": [
    "# compute loss \n",
    "loss = mse(preds,tens2)\n",
    "print(loss)"
   ]
  },
  {
   "cell_type": "code",
   "execution_count": 11,
   "id": "7c740917-5853-4936-afc7-b515712f59f4",
   "metadata": {},
   "outputs": [
    {
     "data": {
      "text/plain": [
       "169.2704185892355"
      ]
     },
     "execution_count": 11,
     "metadata": {},
     "output_type": "execute_result"
    }
   ],
   "source": [
    "s_d = math.sqrt(loss)\n",
    "s_d"
   ]
  },
  {
   "cell_type": "markdown",
   "id": "79c511ae-c056-4b42-9445-f6ff0933765b",
   "metadata": {},
   "source": [
    "# Compute Gradients"
   ]
  },
  {
   "cell_type": "code",
   "execution_count": 12,
   "id": "3012c249-332a-4b31-a64a-70d7f9500f08",
   "metadata": {},
   "outputs": [
    {
     "name": "stdout",
     "output_type": "stream",
     "text": [
      "tensor([[ 0.1548,  1.0396,  1.8693],\n",
      "        [-0.9566, -0.1036, -0.3296]], requires_grad=True)\n",
      "tensor([[ 10763.6270,  11364.2715,   7148.5620],\n",
      "        [-16637.8359, -18047.6914, -11166.4443]])\n"
     ]
    }
   ],
   "source": [
    "#compute graidents\n",
    "loss.backward()\n",
    "print(w)\n",
    "print(w.grad)"
   ]
  },
  {
   "cell_type": "code",
   "execution_count": 13,
   "id": "c30a315b-548c-49c5-8e45-22b5034eb800",
   "metadata": {},
   "outputs": [
    {
     "name": "stdout",
     "output_type": "stream",
     "text": [
      "tensor([0.2634, 1.3578], requires_grad=True)\n",
      "tensor([ 127.8035, -198.1788])\n"
     ]
    }
   ],
   "source": [
    "print(b)\n",
    "print(b.grad)"
   ]
  },
  {
   "cell_type": "markdown",
   "id": "485b6346-758f-4732-89d8-ac0ba3a704df",
   "metadata": {},
   "source": [
    "If your gradient is Positive :\n",
    "   increasing the weight will increase your loss \n",
    "   decreasing the weight will decrease your loss \n",
    "\n",
    "If your gradient is Negative :\n",
    "   increasing the weight will decrease your loss \n",
    "   decreasing the weight will increase your loss"
   ]
  },
  {
   "cell_type": "code",
   "execution_count": 14,
   "id": "d9ec7b56-b6cc-4e39-9c1f-d66a7c17fa35",
   "metadata": {},
   "outputs": [
    {
     "name": "stdout",
     "output_type": "stream",
     "text": [
      "tensor([[0., 0., 0.],\n",
      "        [0., 0., 0.]])\n",
      "tensor([0., 0.])\n"
     ]
    }
   ],
   "source": [
    "w.grad.zero_()\n",
    "b.grad.zero_()\n",
    "print(w.grad)\n",
    "print(b.grad)"
   ]
  },
  {
   "cell_type": "markdown",
   "id": "b25765f4-2b55-49e7-9c3c-98340b1abbcf",
   "metadata": {},
   "source": [
    "### Adjust Weights and biases using Gradients descent "
   ]
  },
  {
   "cell_type": "markdown",
   "id": "bd3f3f77-b654-4dd6-b32e-42b759c7eeaa",
   "metadata": {},
   "source": [
    "we'll reduce the loss and improve our model using the gradient descent optimization algorithm , which has the following steps :\n",
    "\n",
    "1.Generate predictions\n",
    "\n",
    "2.Calculate the loss\n",
    "\n",
    "3.Compute gradients w.r.t the weights and biases\n",
    "\n",
    "4.Adjust the weights by subtracting a small quantity proportional to the gradient\n",
    "\n",
    "5.Reset the gradients to zero\n",
    "\n",
    "Let's implement the above step by step"
   ]
  },
  {
   "cell_type": "code",
   "execution_count": 15,
   "id": "21214829-ee4c-445e-aa9d-c0f21dec8fcc",
   "metadata": {},
   "outputs": [
    {
     "data": {
      "text/plain": [
       "tensor([[ 161.5929,  -89.5891],\n",
       "        [ 225.4655, -115.9053],\n",
       "        [ 261.4504, -114.8664],\n",
       "        [ 129.9154, -112.8674],\n",
       "        [ 241.5933,  -97.6659]], grad_fn=<AddBackward0>)"
      ]
     },
     "execution_count": 15,
     "metadata": {},
     "output_type": "execute_result"
    }
   ],
   "source": [
    "#generate predictions\n",
    "preds = model(tens1)\n",
    "preds"
   ]
  },
  {
   "cell_type": "code",
   "execution_count": 16,
   "id": "48ab0175-51fd-4551-a159-455f8aa01823",
   "metadata": {},
   "outputs": [
    {
     "name": "stdout",
     "output_type": "stream",
     "text": [
      "tensor(28652.4746, grad_fn=<DivBackward0>)\n"
     ]
    }
   ],
   "source": [
    "#calculate the loss\n",
    "loss = mse(preds,tens2)\n",
    "print(loss)"
   ]
  },
  {
   "cell_type": "code",
   "execution_count": 17,
   "id": "521bf6ab-714c-49f1-9517-425fb45e56c6",
   "metadata": {},
   "outputs": [
    {
     "name": "stdout",
     "output_type": "stream",
     "text": [
      "tensor([[ 0.1548,  1.0396,  1.8693],\n",
      "        [-0.9566, -0.1036, -0.3296]], requires_grad=True)\n",
      "tensor([[ 10763.6270,  11364.2715,   7148.5620],\n",
      "        [-16637.8359, -18047.6914, -11166.4443]])\n",
      "tensor([ 127.8035, -198.1788])\n"
     ]
    }
   ],
   "source": [
    "#compute gradients\n",
    "loss.backward()\n",
    "print(w)\n",
    "print(w.grad)\n",
    "print(b.grad)"
   ]
  },
  {
   "cell_type": "markdown",
   "id": "2ac619fe-5724-4969-ad6c-4aa978c3cc4c",
   "metadata": {},
   "source": [
    "***Let's update the weights and biases using the gradients computed above***"
   ]
  },
  {
   "cell_type": "code",
   "execution_count": 18,
   "id": "d6804583-a278-46e4-a53f-fbd7cdb6df24",
   "metadata": {},
   "outputs": [],
   "source": [
    "with torch.no_grad():\n",
    "    w -= w.grad * 1e-5\n",
    "    b -= b.grad * 1e-5\n",
    "    w.grad.zero_()\n",
    "    b.grad.zero_()"
   ]
  },
  {
   "cell_type": "code",
   "execution_count": 19,
   "id": "80f91cb6-ad49-4602-b898-4ae13331be6c",
   "metadata": {},
   "outputs": [
    {
     "name": "stdout",
     "output_type": "stream",
     "text": [
      "tensor([[ 0.0471,  0.9259,  1.7978],\n",
      "        [-0.7902,  0.0769, -0.2179]], requires_grad=True)\n",
      "tensor([0.2621, 1.3598], requires_grad=True)\n"
     ]
    }
   ],
   "source": [
    "print(w)\n",
    "print(b)"
   ]
  },
  {
   "cell_type": "code",
   "execution_count": 20,
   "id": "e6a1b0f0-4f5a-445e-ba20-b8a70a33b8d1",
   "metadata": {},
   "outputs": [
    {
     "name": "stdout",
     "output_type": "stream",
     "text": [
      "tensor(19334.9902, grad_fn=<DivBackward0>)\n"
     ]
    }
   ],
   "source": [
    "preds = model(tens1)\n",
    "preds\n",
    "loss = mse(preds,tens2)\n",
    "print(loss)"
   ]
  },
  {
   "cell_type": "markdown",
   "id": "91608dd4-230d-4db4-bd70-ec6696deb86d",
   "metadata": {},
   "source": [
    "#### Train for 100 epochs i.e 100 times\n"
   ]
  },
  {
   "cell_type": "code",
   "execution_count": 21,
   "id": "d295ef2a-f654-4166-b457-a00ee3c2b33f",
   "metadata": {},
   "outputs": [],
   "source": [
    "for i in range(450):\n",
    "    preds = model(tens1)\n",
    "    loss = mse(preds, tens2)\n",
    "    loss.backward()\n",
    "    with torch.no_grad(): \n",
    "        w -= w.grad * 1e-5\n",
    "        b -= b.grad * 1e-5\n",
    "        w.grad.zero_()\n",
    "        b.grad.zero_()"
   ]
  },
  {
   "cell_type": "code",
   "execution_count": 22,
   "id": "6469e73c-a8e8-40c6-8f53-3c05402aa585",
   "metadata": {},
   "outputs": [
    {
     "name": "stdout",
     "output_type": "stream",
     "text": [
      "tensor(25.0394, grad_fn=<DivBackward0>)\n"
     ]
    }
   ],
   "source": [
    "# calculate loss \n",
    "preds = model(tens1)\n",
    "loss = mse(preds, tens2)\n",
    "print(loss)"
   ]
  },
  {
   "cell_type": "code",
   "execution_count": 23,
   "id": "430279eb-b497-4106-96fc-8985bc9d4015",
   "metadata": {},
   "outputs": [
    {
     "data": {
      "text/plain": [
       "tensor([[ 56.8265,  70.9768],\n",
       "        [ 86.2150,  97.6547],\n",
       "        [110.1228, 138.7474],\n",
       "        [ 19.2936,  39.2163],\n",
       "        [109.9864, 112.8774]], grad_fn=<AddBackward0>)"
      ]
     },
     "execution_count": 23,
     "metadata": {},
     "output_type": "execute_result"
    }
   ],
   "source": [
    "preds"
   ]
  },
  {
   "cell_type": "code",
   "execution_count": 24,
   "id": "11440970-dce4-4b36-83fd-2ca67a1de283",
   "metadata": {},
   "outputs": [
    {
     "data": {
      "text/plain": [
       "tensor([[ 56.,  70.],\n",
       "        [ 81., 101.],\n",
       "        [119., 133.],\n",
       "        [ 22.,  37.],\n",
       "        [103., 119.]])"
      ]
     },
     "execution_count": 24,
     "metadata": {},
     "output_type": "execute_result"
    }
   ],
   "source": [
    "tens2"
   ]
  },
  {
   "cell_type": "code",
   "execution_count": 25,
   "id": "8b40d754-a19f-4d3d-80a1-49c7102844ef",
   "metadata": {},
   "outputs": [],
   "source": [
    "import torch.nn as nn"
   ]
  },
  {
   "cell_type": "code",
   "execution_count": 26,
   "id": "d2e47c10-0af7-4e4e-8af6-96d5ed287f41",
   "metadata": {},
   "outputs": [],
   "source": [
    "from torch.utils.data import TensorDataset"
   ]
  },
  {
   "cell_type": "code",
   "execution_count": 27,
   "id": "e5d35066-c50d-425d-8293-a6f0e09ab3e2",
   "metadata": {},
   "outputs": [
    {
     "data": {
      "text/plain": [
       "(tensor([[ 73.,  67.,  43.],\n",
       "         [ 91.,  88.,  64.],\n",
       "         [ 87., 134.,  58.]]),\n",
       " tensor([[ 56.,  70.],\n",
       "         [ 81., 101.],\n",
       "         [119., 133.]]))"
      ]
     },
     "execution_count": 27,
     "metadata": {},
     "output_type": "execute_result"
    }
   ],
   "source": [
    "#Define dataset\n",
    "train_ds = TensorDataset(tens1, tens2)\n",
    "train_ds[0:3]"
   ]
  },
  {
   "cell_type": "code",
   "execution_count": 28,
   "id": "9087fb4b-9b09-4413-885b-b61b34f89002",
   "metadata": {},
   "outputs": [],
   "source": [
    "#Data loader spreads the data in batches\n",
    "from torch.utils.data import DataLoader"
   ]
  },
  {
   "cell_type": "code",
   "execution_count": 29,
   "id": "24bba1ff-7cc9-4fea-be9b-3a226dad1106",
   "metadata": {},
   "outputs": [],
   "source": [
    "batch_size = 5\n",
    "train_dl = DataLoader(train_ds,batch_size,shuffle =True)"
   ]
  },
  {
   "cell_type": "code",
   "execution_count": 30,
   "id": "c3c8e97e-1a22-4d07-ae69-b8e2afd6e8b6",
   "metadata": {},
   "outputs": [
    {
     "name": "stdout",
     "output_type": "stream",
     "text": [
      "tensor([[ 87., 134.,  58.],\n",
      "        [ 91.,  88.,  64.],\n",
      "        [102.,  43.,  37.],\n",
      "        [ 69.,  96.,  70.],\n",
      "        [ 73.,  67.,  43.]])\n",
      "tensor([[119., 133.],\n",
      "        [ 81., 101.],\n",
      "        [ 22.,  37.],\n",
      "        [103., 119.],\n",
      "        [ 56.,  70.]])\n"
     ]
    }
   ],
   "source": [
    "for xb,yb in train_dl:\n",
    "    print(xb)\n",
    "    print(yb)\n",
    "    break"
   ]
  },
  {
   "cell_type": "code",
   "execution_count": 31,
   "id": "48e7a7a7-5920-427c-abb1-be68842c350d",
   "metadata": {},
   "outputs": [
    {
     "name": "stdout",
     "output_type": "stream",
     "text": [
      "Parameter containing:\n",
      "tensor([[ 0.3039, -0.0392,  0.1419],\n",
      "        [-0.0156,  0.3913, -0.1725]], requires_grad=True)\n",
      "Parameter containing:\n",
      "tensor([-0.4092,  0.0638], requires_grad=True)\n"
     ]
    }
   ],
   "source": [
    "#define model \n",
    "model = nn.Linear(3, 2)\n",
    "print(model.weight)\n",
    "print(model.bias)"
   ]
  },
  {
   "cell_type": "code",
   "execution_count": 32,
   "id": "530546d5-d6ef-45fa-927d-3267f99a43fe",
   "metadata": {},
   "outputs": [
    {
     "data": {
      "text/plain": [
       "[Parameter containing:\n",
       " tensor([[ 0.3039, -0.0392,  0.1419],\n",
       "         [-0.0156,  0.3913, -0.1725]], requires_grad=True),\n",
       " Parameter containing:\n",
       " tensor([-0.4092,  0.0638], requires_grad=True)]"
      ]
     },
     "execution_count": 32,
     "metadata": {},
     "output_type": "execute_result"
    }
   ],
   "source": [
    "# Parameters \n",
    "list(model.parameters())"
   ]
  },
  {
   "cell_type": "code",
   "execution_count": 33,
   "id": "cf1fad6d-e80a-4e0c-bf23-a036bb85f557",
   "metadata": {},
   "outputs": [
    {
     "data": {
      "text/plain": [
       "tensor([[25.2514, 17.7256],\n",
       "        [32.8787, 22.0398],\n",
       "        [29.0099, 41.1363],\n",
       "        [34.1524,  8.9182],\n",
       "        [26.7315, 24.4777]], grad_fn=<AddmmBackward0>)"
      ]
     },
     "execution_count": 33,
     "metadata": {},
     "output_type": "execute_result"
    }
   ],
   "source": [
    "#Generate predictions \n",
    "preds = model(tens1)\n",
    "preds"
   ]
  },
  {
   "cell_type": "code",
   "execution_count": 34,
   "id": "4fd7ea4a-28d3-4e3d-a69e-5c583925aa84",
   "metadata": {},
   "outputs": [],
   "source": [
    "# Import nn.functional\n",
    "import torch.nn.functional as F"
   ]
  },
  {
   "cell_type": "code",
   "execution_count": 35,
   "id": "0fda98dd-53f5-41c9-a40f-50c224d608dd",
   "metadata": {},
   "outputs": [],
   "source": [
    "# Deifne loss fucntion\n",
    "loss_fn = F.mse_loss"
   ]
  },
  {
   "cell_type": "code",
   "execution_count": 36,
   "id": "889c9ee3-9795-4a91-a157-8f05426eb7ff",
   "metadata": {},
   "outputs": [
    {
     "data": {
      "text/plain": [
       "tensor(4445.3223, grad_fn=<MseLossBackward0>)"
      ]
     },
     "execution_count": 36,
     "metadata": {},
     "output_type": "execute_result"
    }
   ],
   "source": [
    "loss = loss_fn(model(tens1),tens2)\n",
    "loss"
   ]
  },
  {
   "cell_type": "code",
   "execution_count": 37,
   "id": "cfe8f122-2148-4777-97dc-c4d029b1b12c",
   "metadata": {},
   "outputs": [],
   "source": [
    "#define optimizer\n",
    "opt = torch.optim.SGD(model.parameters(),lr=1e-5)"
   ]
  },
  {
   "cell_type": "code",
   "execution_count": 38,
   "id": "78f24d93-973a-48ae-b96f-e902653ec6f8",
   "metadata": {},
   "outputs": [],
   "source": [
    "#utility function to train the model\n",
    "def fit(num_epochs, model, loss_fn, opt, train_dl):\n",
    "    for epoch in range(num_epochs):\n",
    "        for xb,yb in train_dl:\n",
    "            pred = model(xb)\n",
    "            loss = loss_fn(pred,yb)\n",
    "            loss.backward()\n",
    "            opt.step()\n",
    "            opt.zero_grad()\n",
    "        if(epoch+1)%10 == 0:\n",
    "            print('Epoch [{}/{} Loss: {:.4f}'.format(epoch+1, num_epochs,loss.item()))"
   ]
  },
  {
   "cell_type": "code",
   "execution_count": 39,
   "id": "763e9a97-4c6c-4c8f-83bf-d0611927ec12",
   "metadata": {},
   "outputs": [
    {
     "name": "stdout",
     "output_type": "stream",
     "text": [
      "Epoch [10/100 Loss: 617.1467\n",
      "Epoch [20/100 Loss: 451.9836\n",
      "Epoch [30/100 Loss: 400.4481\n",
      "Epoch [40/100 Loss: 356.8004\n",
      "Epoch [50/100 Loss: 318.3204\n",
      "Epoch [60/100 Loss: 284.3585\n",
      "Epoch [70/100 Loss: 254.3761\n",
      "Epoch [80/100 Loss: 227.8995\n",
      "Epoch [90/100 Loss: 204.5120\n",
      "Epoch [100/100 Loss: 183.8462\n"
     ]
    }
   ],
   "source": [
    "fit(100,model,loss_fn,opt,train_dl)"
   ]
  },
  {
   "cell_type": "markdown",
   "id": "9b0a4258-4449-4159-8b6f-2b93c98f1fb8",
   "metadata": {},
   "source": [
    "## Testing "
   ]
  },
  {
   "cell_type": "code",
   "execution_count": 41,
   "id": "93ac6d2a-a15a-4d9c-afb5-7e358c47cc61",
   "metadata": {},
   "outputs": [
    {
     "data": {
      "text/plain": [
       "tensor([[28.8499, 18.9832]], grad_fn=<AddmmBackward0>)"
      ]
     },
     "execution_count": 41,
     "metadata": {},
     "output_type": "execute_result"
    }
   ],
   "source": [
    "model(torch.tensor([[96.2,4.0,40.1]]))"
   ]
  }
 ],
 "metadata": {
  "kernelspec": {
   "display_name": "Python 3 (ipykernel)",
   "language": "python",
   "name": "python3"
  },
  "language_info": {
   "codemirror_mode": {
    "name": "ipython",
    "version": 3
   },
   "file_extension": ".py",
   "mimetype": "text/x-python",
   "name": "python",
   "nbconvert_exporter": "python",
   "pygments_lexer": "ipython3",
   "version": "3.12.0"
  }
 },
 "nbformat": 4,
 "nbformat_minor": 5
}
